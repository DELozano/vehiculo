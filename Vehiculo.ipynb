{
 "cells": [
  {
   "cell_type": "markdown",
   "id": "93402e0c-d2cb-467a-a549-942fffefc6e9",
   "metadata": {},
   "source": [
    "# Regresion Lineal "
   ]
  },
  {
   "cell_type": "code",
   "execution_count": 2,
   "id": "e131d874-b437-4973-b0db-7663adf468ea",
   "metadata": {},
   "outputs": [
    {
     "name": "stdout",
     "output_type": "stream",
     "text": [
      "Requirement already satisfied: pandas in c:\\users\\asus\\anaconda3\\lib\\site-packages (2.2.2)\n",
      "Requirement already satisfied: numpy in c:\\users\\asus\\anaconda3\\lib\\site-packages (1.26.4)\n",
      "Requirement already satisfied: seaborn in c:\\users\\asus\\anaconda3\\lib\\site-packages (0.13.2)\n",
      "Requirement already satisfied: matplotlib in c:\\users\\asus\\anaconda3\\lib\\site-packages (3.9.2)\n",
      "Requirement already satisfied: scikit-learn in c:\\users\\asus\\anaconda3\\lib\\site-packages (1.5.1)\n",
      "Requirement already satisfied: python-dateutil>=2.8.2 in c:\\users\\asus\\anaconda3\\lib\\site-packages (from pandas) (2.9.0.post0)\n",
      "Requirement already satisfied: pytz>=2020.1 in c:\\users\\asus\\anaconda3\\lib\\site-packages (from pandas) (2024.1)\n",
      "Requirement already satisfied: tzdata>=2022.7 in c:\\users\\asus\\anaconda3\\lib\\site-packages (from pandas) (2023.3)\n",
      "Requirement already satisfied: contourpy>=1.0.1 in c:\\users\\asus\\anaconda3\\lib\\site-packages (from matplotlib) (1.2.0)\n",
      "Requirement already satisfied: cycler>=0.10 in c:\\users\\asus\\anaconda3\\lib\\site-packages (from matplotlib) (0.11.0)\n",
      "Requirement already satisfied: fonttools>=4.22.0 in c:\\users\\asus\\anaconda3\\lib\\site-packages (from matplotlib) (4.51.0)\n",
      "Requirement already satisfied: kiwisolver>=1.3.1 in c:\\users\\asus\\anaconda3\\lib\\site-packages (from matplotlib) (1.4.4)\n",
      "Requirement already satisfied: packaging>=20.0 in c:\\users\\asus\\anaconda3\\lib\\site-packages (from matplotlib) (24.1)\n",
      "Requirement already satisfied: pillow>=8 in c:\\users\\asus\\anaconda3\\lib\\site-packages (from matplotlib) (10.4.0)\n",
      "Requirement already satisfied: pyparsing>=2.3.1 in c:\\users\\asus\\anaconda3\\lib\\site-packages (from matplotlib) (3.1.2)\n",
      "Requirement already satisfied: scipy>=1.6.0 in c:\\users\\asus\\anaconda3\\lib\\site-packages (from scikit-learn) (1.13.1)\n",
      "Requirement already satisfied: joblib>=1.2.0 in c:\\users\\asus\\anaconda3\\lib\\site-packages (from scikit-learn) (1.4.2)\n",
      "Requirement already satisfied: threadpoolctl>=3.1.0 in c:\\users\\asus\\anaconda3\\lib\\site-packages (from scikit-learn) (3.5.0)\n",
      "Requirement already satisfied: six>=1.5 in c:\\users\\asus\\anaconda3\\lib\\site-packages (from python-dateutil>=2.8.2->pandas) (1.16.0)\n",
      "Note: you may need to restart the kernel to use updated packages.\n"
     ]
    }
   ],
   "source": [
    "# Install missing libraries\n",
    "%pip install pandas numpy seaborn matplotlib scikit-learn\n",
    "\n",
    "# Importamos las librerias \n",
    "import pandas as pd\n",
    "import numpy as np\n",
    "import seaborn as sns\n",
    "import matplotlib.pyplot as plt\n",
    "from sklearn.preprocessing import LabelEncoder\n",
    "from sklearn import metrics\n",
    "from sklearn.model_selection import train_test_split\n",
    "from sklearn.tree import DecisionTreeClassifier, plot_tree\n",
    "from sklearn.metrics import accuracy_score, precision_score, recall_score, f1_score"
   ]
  },
  {
   "cell_type": "markdown",
   "id": "988490b4-4ec1-4511-a579-8a237cb36971",
   "metadata": {},
   "source": [
    "# Paso 1 (análisis exploratorio)"
   ]
  },
  {
   "cell_type": "code",
   "execution_count": null,
   "id": "5731881e-e2f2-49d1-8abb-b5d4d8fc3429",
   "metadata": {},
   "outputs": [],
   "source": [
    "# 1. Cargar los datos \n",
    "\n",
    "vh = pd.read_csv(\"C:/Users/ASUS/OneDrive/Escritorio/V4/Car.csv\")"
   ]
  },
  {
   "cell_type": "code",
   "execution_count": null,
   "id": "088061b8-1e5b-4e57-ad1a-697ebc6a2720",
   "metadata": {},
   "outputs": [
    {
     "name": "stdout",
     "output_type": "stream",
     "text": [
      "Primeras filas del dataset:\n",
      "            Make                                 Model    Price  Year  \\\n",
      "0          Honda                   Amaze 1.2 VX i-VTEC   505000  2017   \n",
      "1  Maruti Suzuki                       Swift DZire VDI   450000  2014   \n",
      "2        Hyundai                  i10 Magna 1.2 Kappa2   220000  2011   \n",
      "3         Toyota                              Glanza G   799000  2019   \n",
      "4         Toyota       Innova 2.4 VX 7 STR [2016-2020]  1950000  2018   \n",
      "5  Maruti Suzuki                              Ciaz ZXi   675000  2017   \n",
      "6  Mercedes-Benz                  CLA 200 Petrol Sport  1898999  2015   \n",
      "7            BMW                  X1 xDrive20d M Sport  2650000  2017   \n",
      "8          Skoda  Octavia 1.8 TSI Style Plus AT [2017]  1390000  2017   \n",
      "9         Nissan                        Terrano XL (D)   575000  2015   \n",
      "\n",
      "   Kilometer Fuel Type Transmission    Location   Color   Owner Seller Type  \\\n",
      "0      87150    Petrol       Manual        Pune    Grey   First   Corporate   \n",
      "1      75000    Diesel       Manual    Ludhiana   White  Second  Individual   \n",
      "2      67000    Petrol       Manual     Lucknow  Maroon   First  Individual   \n",
      "3      37500    Petrol       Manual   Mangalore     Red   First  Individual   \n",
      "4      69000    Diesel       Manual      Mumbai    Grey   First  Individual   \n",
      "5      73315    Petrol       Manual        Pune    Grey   First  Individual   \n",
      "6      47000    Petrol    Automatic      Mumbai   White  Second  Individual   \n",
      "7      75000    Diesel    Automatic  Coimbatore   White  Second  Individual   \n",
      "8      56000    Petrol    Automatic      Mumbai   White   First  Individual   \n",
      "9      85000    Diesel       Manual      Mumbai   White   First  Individual   \n",
      "\n",
      "    Engine           Max Power              Max Torque Drivetrain  Length  \\\n",
      "0  1198 cc   87 bhp @ 6000 rpm       109 Nm @ 4500 rpm        FWD  3990.0   \n",
      "1  1248 cc   74 bhp @ 4000 rpm       190 Nm @ 2000 rpm        FWD  3995.0   \n",
      "2  1197 cc   79 bhp @ 6000 rpm  112.7619 Nm @ 4000 rpm        FWD  3585.0   \n",
      "3  1197 cc   82 bhp @ 6000 rpm       113 Nm @ 4200 rpm        FWD  3995.0   \n",
      "4  2393 cc  148 bhp @ 3400 rpm       343 Nm @ 1400 rpm        RWD  4735.0   \n",
      "5  1373 cc   91 bhp @ 6000 rpm       130 Nm @ 4000 rpm        FWD  4490.0   \n",
      "6  1991 cc  181 bhp @ 5500 rpm       300 Nm @ 1200 rpm        FWD  4630.0   \n",
      "7  1995 cc  188 bhp @ 4000 rpm       400 Nm @ 1750 rpm        AWD  4439.0   \n",
      "8  1798 cc  177 bhp @ 5100 rpm       250 Nm @ 1250 rpm        FWD  4670.0   \n",
      "9  1461 cc   84 bhp @ 3750 rpm       200 Nm @ 1900 rpm        FWD  4331.0   \n",
      "\n",
      "    Width  Height  Seating Capacity  Fuel Tank Capacity  \n",
      "0  1680.0  1505.0               5.0                35.0  \n",
      "1  1695.0  1555.0               5.0                42.0  \n",
      "2  1595.0  1550.0               5.0                35.0  \n",
      "3  1745.0  1510.0               5.0                37.0  \n",
      "4  1830.0  1795.0               7.0                55.0  \n",
      "5  1730.0  1485.0               5.0                43.0  \n",
      "6  1777.0  1432.0               5.0                 NaN  \n",
      "7  1821.0  1612.0               5.0                51.0  \n",
      "8  1814.0  1476.0               5.0                50.0  \n",
      "9  1822.0  1671.0               5.0                50.0  \n"
     ]
    }
   ],
   "source": [
    "# 2. Mostrar las primeras 10 filas para conocer la estructura del dataset\n",
    "print(\"Primeras filas del dataset:\")\n",
    "print(vh.head(10))"
   ]
  },
  {
   "cell_type": "code",
   "execution_count": 27,
   "id": "c15084d7-e2bb-4c7d-ad7a-1779cad4ceb8",
   "metadata": {},
   "outputs": [
    {
     "name": "stdout",
     "output_type": "stream",
     "text": [
      "\n",
      "Información del dataset:\n",
      "<class 'pandas.core.frame.DataFrame'>\n",
      "RangeIndex: 2059 entries, 0 to 2058\n",
      "Data columns (total 20 columns):\n",
      " #   Column              Non-Null Count  Dtype  \n",
      "---  ------              --------------  -----  \n",
      " 0   Make                2059 non-null   object \n",
      " 1   Model               2059 non-null   object \n",
      " 2   Price               2059 non-null   int64  \n",
      " 3   Year                2059 non-null   int64  \n",
      " 4   Kilometer           2059 non-null   int64  \n",
      " 5   Fuel Type           2059 non-null   object \n",
      " 6   Transmission        2059 non-null   object \n",
      " 7   Location            2059 non-null   object \n",
      " 8   Color               2059 non-null   object \n",
      " 9   Owner               2059 non-null   object \n",
      " 10  Seller Type         2059 non-null   object \n",
      " 11  Engine              1979 non-null   object \n",
      " 12  Max Power           1979 non-null   object \n",
      " 13  Max Torque          1979 non-null   object \n",
      " 14  Drivetrain          1923 non-null   object \n",
      " 15  Length              1995 non-null   float64\n",
      " 16  Width               1995 non-null   float64\n",
      " 17  Height              1995 non-null   float64\n",
      " 18  Seating Capacity    1995 non-null   float64\n",
      " 19  Fuel Tank Capacity  1946 non-null   float64\n",
      "dtypes: float64(5), int64(3), object(12)\n",
      "memory usage: 321.8+ KB\n",
      "None\n"
     ]
    }
   ],
   "source": [
    "# 3. Información general del dataset\n",
    "print(\"\\nInformación del dataset:\")\n",
    "print(vh.info())"
   ]
  },
  {
   "cell_type": "markdown",
   "id": "fc997bb3-dd17-4c14-9140-b75a17de770c",
   "metadata": {},
   "source": [
    "Explicación de las variables:\n",
    "\n",
    "Make: Marca del vehículo (ej. Honda, Toyota)\n",
    "\n",
    "Model: Modelo específico del vehículo\n",
    "\n",
    "Price: Precio (nuestra variable objetivo a predecir)\n",
    "\n",
    "Year: Año de fabricación\n",
    "\n",
    "Kilometer: Kilometraje del vehículo\n",
    "\n",
    "Fuel Type: Tipo de combustible (Petrol, Diesel, CNG, etc.)\n",
    "\n",
    "Transmission: Tipo de transmisión (Manual, Automática)\n",
    "\n",
    "Location: Ciudad donde se vende el vehículo\n",
    "\n",
    "Color: Color del vehículo\n",
    "\n",
    "Owner: Número de dueños previos\n",
    "\n",
    "Seller Type: Tipo de vendedor (Individual, Corporativo)\n",
    "\n",
    "Engine: Tamaño del motor en cc\n",
    "\n",
    "Max Power: Potencia máxima en bhp\n",
    "\n",
    "Max Torque: Par máximo en Nm\n",
    "\n",
    "Drivetrain: Tracción (FWD, RWD, AWD)\n",
    "\n",
    "Length, Width, Height: Dimensiones del vehículo\n",
    "\n",
    "Seating Capacity: Capacidad de pasajeros\n",
    "\n",
    "Fuel Tank Capacity: Capacidad del tanque de combustible"
   ]
  },
  {
   "cell_type": "code",
   "execution_count": 58,
   "id": "da15cc4a-5f34-4872-8579-e6117f8bd399",
   "metadata": {},
   "outputs": [
    {
     "name": "stdout",
     "output_type": "stream",
     "text": [
      "\n",
      "Estadísticas descriptivas:\n",
      "              Price         Year     Kilometer       Length        Width  \\\n",
      "count  2.059000e+03  2059.000000  2.059000e+03  2059.000000  2059.000000   \n",
      "mean   1.702992e+06  2016.425449  5.422471e+04  4280.860652  1767.991980   \n",
      "std    2.419881e+06     3.363564  5.736172e+04   435.524350   133.145955   \n",
      "min    4.900000e+04  1988.000000  0.000000e+00  3099.000000  1475.000000   \n",
      "25%    4.849990e+05  2014.000000  2.900000e+04  3986.000000  1695.000000   \n",
      "50%    8.250000e+05  2017.000000  5.000000e+04  4315.000000  1767.991980   \n",
      "75%    1.925000e+06  2019.000000  7.200000e+04  4620.000000  1831.000000   \n",
      "max    3.500000e+07  2022.000000  2.000000e+06  5569.000000  2220.000000   \n",
      "\n",
      "            Height  Seating Capacity  Fuel Tank Capacity  \n",
      "count  2059.000000       2059.000000         2059.000000  \n",
      "mean   1591.735338          5.306266           52.002210  \n",
      "std     133.941421          0.809285           14.689509  \n",
      "min    1165.000000          2.000000           15.000000  \n",
      "25%    1485.000000          5.000000           42.000000  \n",
      "50%    1550.000000          5.000000           50.000000  \n",
      "75%    1672.000000          5.000000           60.000000  \n",
      "max    1995.000000          8.000000          105.000000  \n"
     ]
    }
   ],
   "source": [
    "# 4. Estadísticas descriptivas para columnas numéricas\n",
    "print(\"\\nEstadísticas descriptivas:\")\n",
    "print(vh.describe())\n"
   ]
  },
  {
   "cell_type": "markdown",
   "id": "71797a44-fe6c-4a01-870e-809e194f0638",
   "metadata": {},
   "source": [
    "# Paso 2: Preprocesamiento de los datos"
   ]
  },
  {
   "cell_type": "code",
   "execution_count": 54,
   "id": "54412cbc-aa97-478f-916f-5b8c34fc65dd",
   "metadata": {},
   "outputs": [],
   "source": [
    "# 1. Eliminar duplicados\n",
    "vh.drop_duplicates(inplace=True)"
   ]
  },
  {
   "cell_type": "code",
   "execution_count": 56,
   "id": "f411f0d5-b543-4dcf-9cee-bd0568d41d38",
   "metadata": {},
   "outputs": [
    {
     "name": "stdout",
     "output_type": "stream",
     "text": [
      "\n",
      "Valores faltantes en cada columna:\n",
      "Make                  0\n",
      "Model                 0\n",
      "Price                 0\n",
      "Year                  0\n",
      "Kilometer             0\n",
      "Fuel Type             0\n",
      "Transmission          0\n",
      "Location              0\n",
      "Color                 0\n",
      "Owner                 0\n",
      "Seller Type           0\n",
      "Engine                0\n",
      "Max Power             0\n",
      "Max Torque            0\n",
      "Drivetrain            0\n",
      "Length                0\n",
      "Width                 0\n",
      "Height                0\n",
      "Seating Capacity      0\n",
      "Fuel Tank Capacity    0\n",
      "dtype: int64\n"
     ]
    }
   ],
   "source": [
    "# 2. Identificar valores faltantes\n",
    "print(\"\\nValores faltantes en cada columna:\")\n",
    "print(vh.isnull().sum())"
   ]
  },
  {
   "cell_type": "code",
   "execution_count": 36,
   "id": "2bd03876-4651-42e9-a8df-3893dbefc5b6",
   "metadata": {},
   "outputs": [],
   "source": [
    "# 3. Rellenar valores faltantes con la media de cada columna\n",
    "vh.fillna(vh.mean(numeric_only=True), inplace=True)\n"
   ]
  },
  {
   "cell_type": "code",
   "execution_count": 38,
   "id": "b4705775-3a49-4317-8414-87d9fc12d8e8",
   "metadata": {},
   "outputs": [
    {
     "name": "stdout",
     "output_type": "stream",
     "text": [
      "Valores faltantes después de rellenar:\n",
      "Make                    0\n",
      "Model                   0\n",
      "Price                   0\n",
      "Year                    0\n",
      "Kilometer               0\n",
      "Fuel Type               0\n",
      "Transmission            0\n",
      "Location                0\n",
      "Color                   0\n",
      "Owner                   0\n",
      "Seller Type             0\n",
      "Engine                 80\n",
      "Max Power              80\n",
      "Max Torque             80\n",
      "Drivetrain            136\n",
      "Length                  0\n",
      "Width                   0\n",
      "Height                  0\n",
      "Seating Capacity        0\n",
      "Fuel Tank Capacity      0\n",
      "dtype: int64\n"
     ]
    }
   ],
   "source": [
    "# 4. Verificar que ya no hay valores faltantes\n",
    "print(\"Valores faltantes después de rellenar:\")\n",
    "print(vh.isnull().sum())"
   ]
  },
  {
   "cell_type": "code",
   "execution_count": 42,
   "id": "858456d5-b1d7-438d-8b9e-8a2a94aa401c",
   "metadata": {},
   "outputs": [],
   "source": [
    "# 5. Rellenar valores no numéricos con la moda (el valor más común)\n",
    "columnas_no_numericas = vh.select_dtypes(include='object').columns\n",
    "\n",
    "for col in columnas_no_numericas:\n",
    "    if vh[col].isnull().sum() > 0:\n",
    "        moda = vh[col].mode()[0]\n",
    "        vh[col] = vh[col].fillna(moda)\n",
    "        print(f\"Columna '{col}' rellenada con la moda: {moda}\")\n"
   ]
  },
  {
   "cell_type": "code",
   "execution_count": 46,
   "id": "cd18b258-d330-43e9-bfdb-9cb2aea8f023",
   "metadata": {},
   "outputs": [
    {
     "name": "stdout",
     "output_type": "stream",
     "text": [
      "Verificar si hay valores faltantes: \n",
      "Make                  0\n",
      "Model                 0\n",
      "Price                 0\n",
      "Year                  0\n",
      "Kilometer             0\n",
      "Fuel Type             0\n",
      "Transmission          0\n",
      "Location              0\n",
      "Color                 0\n",
      "Owner                 0\n",
      "Seller Type           0\n",
      "Engine                0\n",
      "Max Power             0\n",
      "Max Torque            0\n",
      "Drivetrain            0\n",
      "Length                0\n",
      "Width                 0\n",
      "Height                0\n",
      "Seating Capacity      0\n",
      "Fuel Tank Capacity    0\n",
      "dtype: int64\n"
     ]
    }
   ],
   "source": [
    "print(\"Verificar si hay valores faltantes: \")\n",
    "print(vh.isnull().sum())"
   ]
  },
  {
   "cell_type": "markdown",
   "id": "8a899f78-2483-4fd7-8c7b-fafc4b916252",
   "metadata": {},
   "source": [
    "Se puede identificar que no hay valores faltantes"
   ]
  },
  {
   "cell_type": "code",
   "execution_count": 72,
   "id": "77d0b34d-179d-401e-aa01-af011848a478",
   "metadata": {},
   "outputs": [],
   "source": [
    "# 6. Codificar variables categóricas (conversión texto a números)\n",
    "label_encoder = LabelEncoder()\n",
    "for col in columnas_no_numericas:\n",
    "    vh[col] = label_encoder.fit_transform(vh[col])"
   ]
  },
  {
   "cell_type": "code",
   "execution_count": 74,
   "id": "16dec73a-13f7-4142-af66-d6f262f6dd0a",
   "metadata": {},
   "outputs": [
    {
     "name": "stdout",
     "output_type": "stream",
     "text": [
      "\n",
      "Revisión final de valores faltantes:\n",
      "Make                  0\n",
      "Model                 0\n",
      "Price                 0\n",
      "Year                  0\n",
      "Kilometer             0\n",
      "Fuel Type             0\n",
      "Transmission          0\n",
      "Location              0\n",
      "Color                 0\n",
      "Owner                 0\n",
      "Seller Type           0\n",
      "Engine                0\n",
      "Max Power             0\n",
      "Max Torque            0\n",
      "Drivetrain            0\n",
      "Length                0\n",
      "Width                 0\n",
      "Height                0\n",
      "Seating Capacity      0\n",
      "Fuel Tank Capacity    0\n",
      "dtype: int64\n",
      "\n",
      "Tipos de datos después del preprocesamiento:\n",
      "Make                    int64\n",
      "Model                   int64\n",
      "Price                   int64\n",
      "Year                    int64\n",
      "Kilometer               int64\n",
      "Fuel Type               int64\n",
      "Transmission            int64\n",
      "Location                int64\n",
      "Color                   int64\n",
      "Owner                   int64\n",
      "Seller Type             int64\n",
      "Engine                  int64\n",
      "Max Power               int64\n",
      "Max Torque              int64\n",
      "Drivetrain              int64\n",
      "Length                float64\n",
      "Width                 float64\n",
      "Height                float64\n",
      "Seating Capacity      float64\n",
      "Fuel Tank Capacity    float64\n",
      "dtype: object\n"
     ]
    }
   ],
   "source": [
    "# 7. Verificar datos limpios\n",
    "print(\"\\nRevisión final de valores faltantes:\")\n",
    "print(vh.isnull().sum())\n",
    "\n",
    "print(\"\\nTipos de datos después del preprocesamiento:\")\n",
    "print(vh.dtypes)\n"
   ]
  },
  {
   "cell_type": "code",
   "execution_count": 70,
   "id": "391bcde5-3679-404a-9db3-7ace23f33546",
   "metadata": {},
   "outputs": [
    {
     "name": "stdout",
     "output_type": "stream",
     "text": [
      "\n",
      "Vista previa de los datos ya preprocesados:\n",
      "   Make  Model    Price  Year  Kilometer  Fuel Type  Transmission  Location  \\\n",
      "0     7    106   505000  2017      87150          6             1        56   \n",
      "1    19    802   450000  2014      75000          2             1        40   \n",
      "2     8   1030   220000  2011      67000          6             1        39   \n",
      "3    30    492   799000  2019      37500          6             1        41   \n",
      "4    30    548  1950000  2018      69000          2             1        45   \n",
      "\n",
      "   Color  Owner  Seller Type  Engine  Max Power  Max Torque  Drivetrain  \\\n",
      "0      7      1            1       7        312           5           1   \n",
      "1     15      3            2       9        289          77           1   \n",
      "2      8      1            2       6        301          11           1   \n",
      "3     13      1            2       6        305          15           1   \n",
      "4      7      1            2      60         78         167           2   \n",
      "\n",
      "   Length   Width  Height  Seating Capacity  Fuel Tank Capacity  \n",
      "0  3990.0  1680.0  1505.0               5.0                35.0  \n",
      "1  3995.0  1695.0  1555.0               5.0                42.0  \n",
      "2  3585.0  1595.0  1550.0               5.0                35.0  \n",
      "3  3995.0  1745.0  1510.0               5.0                37.0  \n",
      "4  4735.0  1830.0  1795.0               7.0                55.0  \n"
     ]
    }
   ],
   "source": [
    "# 8. Mostrar una muestra de los datos procesados\n",
    "print(\"\\nVista previa de los datos ya preprocesados:\")\n",
    "print(vh.head())"
   ]
  },
  {
   "cell_type": "code",
   "execution_count": 108,
   "id": "24e8c128-f9ca-4b06-972a-99651d75ef7b",
   "metadata": {},
   "outputs": [],
   "source": [
    "plt.rcParams['figure.figsize'] = (12, 6)"
   ]
  },
  {
   "cell_type": "code",
   "execution_count": 112,
   "id": "3eee0439-67de-41b4-8abe-b259d0fe7d29",
   "metadata": {},
   "outputs": [
    {
     "data": {
      "image/png": "[encoded data removed]",
      "text/plain": [
       "<Figure size 1200x600 with 1 Axes>"
      ]
     },
     "metadata": {},
     "output_type": "display_data"
    }
   ],
   "source": [
    "# 6. Histograma de precios\n",
    "plt.figure()\n",
    "sns.histplot(vh[\"Price\"], kde=True, bins=30, color='skyblue')\n",
    "plt.title(\"Distribución del Precio de los Vehículos\")\n",
    "plt.xlabel(\"Precio\")\n",
    "plt.ylabel(\"Cantidad de Vehículos\")\n",
    "plt.grid(True)\n",
    "plt.tight_layout()\n",
    "plt.show()"
   ]
  },
  {
   "cell_type": "code",
   "execution_count": 125,
   "id": "5c8d6cbb-d5fd-4a00-b850-48dc13a0f5e2",
   "metadata": {},
   "outputs": [
    {
     "data": {
      "image/png": "[encoded data removed]",
      "text/plain": [
       "<Figure size 1000x600 with 1 Axes>"
      ]
     },
     "metadata": {},
     "output_type": "display_data"
    }
   ],
   "source": [
    "import seaborn as sns\n",
    "import matplotlib.pyplot as plt\n",
    "\n",
    "# 8. Gráfico de conteo de la variable 'Transmission' con 'Fuel Type' como hue\n",
    "plt.figure(figsize=(10, 6))\n",
    "sns.countplot(data=vh, x=\"Transmission\", hue=\"Fuel Type\", palette='Set2')\n",
    "plt.title('Conteo de Transmisiones por Tipo de Combustible')\n",
    "plt.xlabel('Transmisión')\n",
    "plt.ylabel('Conteo')\n",
    "plt.legend(title='Tipo de Combustible')\n",
    "plt.show()\n"
   ]
  },
  {
   "cell_type": "code",
   "execution_count": 104,
   "id": "f60c0ded-1249-4c3c-9923-e1aec27e01d4",
   "metadata": {},
   "outputs": [
    {
     "data": {
      "image/png": "[encoded data removed]",
      "text/plain": [
       "<Figure size 640x480 with 1 Axes>"
      ]
     },
     "metadata": {},
     "output_type": "display_data"
    }
   ],
   "source": [
    "# 9. Box plot para ver valores atípicos en el precio\n",
    "plt.figure()\n",
    "sns.boxplot(data=vh, y=\"Price\", color='lightcoral')\n",
    "plt.title(\"Boxplot del Precio de los Vehículos (Detección de Atípicos)\")\n",
    "plt.ylabel(\"Precio\")\n",
    "plt.tight_layout()\n",
    "plt.show()"
   ]
  },
  {
   "cell_type": "markdown",
   "id": "b3ab6998-2217-4b92-b193-7771b71c9585",
   "metadata": {},
   "source": [
    "# PASO 3: Selección de características relevantes"
   ]
  },
  {
   "cell_type": "code",
   "execution_count": 146,
   "id": "2fc7b0f8-2fc3-447b-a610-17107f776395",
   "metadata": {},
   "outputs": [],
   "source": [
    "from sklearn.feature_selection import SelectKBest, f_regression\n",
    "\n",
    "# Seleccionar las mejores características\n",
    "selector = SelectKBest(score_func=f_regression, k=10)  # Selecciona las 10 más relevantes\n",
    "X_selected = selector.fit_transform(X, y)\n",
    "\n",
    "# Guardar nombres de las columnas seleccionadas\n",
    "selected_columns = X.columns[selector.get_support()]\n",
    "X = X[selected_columns]\n"
   ]
  },
  {
   "cell_type": "markdown",
   "id": "02bbc332-4fab-45aa-8071-0ad5527244a6",
   "metadata": {},
   "source": [
    "# PASO 4: División en Train y Test"
   ]
  },
  {
   "cell_type": "code",
   "execution_count": null,
   "id": "87a8b30a-196d-40d8-a693-341bf375c65e",
   "metadata": {},
   "outputs": [],
   "source": [
    "from sklearn.model_selection import train_test_split\n",
    "\n",
    "# Definir X (características) y y (variable objetivo)\n",
    "X = vh.drop(columns=[\"Price\"])  # Eliminar la columna objetivo\n",
    "y = vh[\"Price\"]  # Variable objetivo\n",
    "\n",
    "X_train, X_test, y_train, y_test = train_test_split(\n",
    "    X, y, test_size=0.2, random_state=42\n",
    ")\n"
   ]
  },
  {
   "cell_type": "markdown",
   "id": "90d2791f-db62-462b-82c8-bf623feb87fa",
   "metadata": {},
   "source": [
    "# PASO 5: Entrenamiento del modelo"
   ]
  },
  {
   "cell_type": "code",
   "execution_count": 150,
   "id": "24924c54-fc8a-4e5c-91c1-93e3abb9fcee",
   "metadata": {},
   "outputs": [
    {
     "data": {
      "text/html": [
       "<style>#sk-container-id-2 {\n",
       "  /* Definition of color scheme common for light and dark mode */\n",
       "  --sklearn-color-text: black;\n",
       "  --sklearn-color-line: gray;\n",
       "  /* Definition of color scheme for unfitted estimators */\n",
       "  --sklearn-color-unfitted-level-0: #fff5e6;\n",
       "  --sklearn-color-unfitted-level-1: #f6e4d2;\n",
       "  --sklearn-color-unfitted-level-2: #ffe0b3;\n",
       "  --sklearn-color-unfitted-level-3: chocolate;\n",
       "  /* Definition of color scheme for fitted estimators */\n",
       "  --sklearn-color-fitted-level-0: #f0f8ff;\n",
       "  --sklearn-color-fitted-level-1: #d4ebff;\n",
       "  --sklearn-color-fitted-level-2: #b3dbfd;\n",
       "  --sklearn-color-fitted-level-3: cornflowerblue;\n",
       "\n",
       "  /* Specific color for light theme */\n",
       "  --sklearn-color-text-on-default-background: var(--sg-text-color, var(--theme-code-foreground, var(--jp-content-font-color1, black)));\n",
       "  --sklearn-color-background: var(--sg-background-color, var(--theme-background, var(--jp-layout-color0, white)));\n",
       "  --sklearn-color-border-box: var(--sg-text-color, var(--theme-code-foreground, var(--jp-content-font-color1, black)));\n",
       "  --sklearn-color-icon: #696969;\n",
       "\n",
       "  @media (prefers-color-scheme: dark) {\n",
       "    /* Redefinition of color scheme for dark theme */\n",
       "    --sklearn-color-text-on-default-background: var(--sg-text-color, var(--theme-code-foreground, var(--jp-content-font-color1, white)));\n",
       "    --sklearn-color-background: var(--sg-background-color, var(--theme-background, var(--jp-layout-color0, #111)));\n",
       "    --sklearn-color-border-box: var(--sg-text-color, var(--theme-code-foreground, var(--jp-content-font-color1, white)));\n",
       "    --sklearn-color-icon: #878787;\n",
       "  }\n",
       "}\n",
       "\n",
       "#sk-container-id-2 {\n",
       "  color: var(--sklearn-color-text);\n",
       "}\n",
       "\n",
       "#sk-container-id-2 pre {\n",
       "  padding: 0;\n",
       "}\n",
       "\n",
       "#sk-container-id-2 input.sk-hidden--visually {\n",
       "  border: 0;\n",
       "  clip: rect(1px 1px 1px 1px);\n",
       "  clip: rect(1px, 1px, 1px, 1px);\n",
       "  height: 1px;\n",
       "  margin: -1px;\n",
       "  overflow: hidden;\n",
       "  padding: 0;\n",
       "  position: absolute;\n",
       "  width: 1px;\n",
       "}\n",
       "\n",
       "#sk-container-id-2 div.sk-dashed-wrapped {\n",
       "  border: 1px dashed var(--sklearn-color-line);\n",
       "  margin: 0 0.4em 0.5em 0.4em;\n",
       "  box-sizing: border-box;\n",
       "  padding-bottom: 0.4em;\n",
       "  background-color: var(--sklearn-color-background);\n",
       "}\n",
       "\n",
       "#sk-container-id-2 div.sk-container {\n",
       "  /* jupyter's `normalize.less` sets `[hidden] { display: none; }`\n",
       "     but bootstrap.min.css set `[hidden] { display: none !important; }`\n",
       "     so we also need the `!important` here to be able to override the\n",
       "     default hidden behavior on the sphinx rendered scikit-learn.org.\n",
       "     See: https://github.com/scikit-learn/scikit-learn/issues/21755 */\n",
       "  display: inline-block !important;\n",
       "  position: relative;\n",
       "}\n",
       "\n",
       "#sk-container-id-2 div.sk-text-repr-fallback {\n",
       "  display: none;\n",
       "}\n",
       "\n",
       "div.sk-parallel-item,\n",
       "div.sk-serial,\n",
       "div.sk-item {\n",
       "  /* draw centered vertical line to link estimators */\n",
       "  background-image: linear-gradient(var(--sklearn-color-text-on-default-background), var(--sklearn-color-text-on-default-background));\n",
       "  background-size: 2px 100%;\n",
       "  background-repeat: no-repeat;\n",
       "  background-position: center center;\n",
       "}\n",
       "\n",
       "/* Parallel-specific style estimator block */\n",
       "\n",
       "#sk-container-id-2 div.sk-parallel-item::after {\n",
       "  content: \"\";\n",
       "  width: 100%;\n",
       "  border-bottom: 2px solid var(--sklearn-color-text-on-default-background);\n",
       "  flex-grow: 1;\n",
       "}\n",
       "\n",
       "#sk-container-id-2 div.sk-parallel {\n",
       "  display: flex;\n",
       "  align-items: stretch;\n",
       "  justify-content: center;\n",
       "  background-color: var(--sklearn-color-background);\n",
       "  position: relative;\n",
       "}\n",
       "\n",
       "#sk-container-id-2 div.sk-parallel-item {\n",
       "  display: flex;\n",
       "  flex-direction: column;\n",
       "}\n",
       "\n",
       "#sk-container-id-2 div.sk-parallel-item:first-child::after {\n",
       "  align-self: flex-end;\n",
       "  width: 50%;\n",
       "}\n",
       "\n",
       "#sk-container-id-2 div.sk-parallel-item:last-child::after {\n",
       "  align-self: flex-start;\n",
       "  width: 50%;\n",
       "}\n",
       "\n",
       "#sk-container-id-2 div.sk-parallel-item:only-child::after {\n",
       "  width: 0;\n",
       "}\n",
       "\n",
       "/* Serial-specific style estimator block */\n",
       "\n",
       "#sk-container-id-2 div.sk-serial {\n",
       "  display: flex;\n",
       "  flex-direction: column;\n",
       "  align-items: center;\n",
       "  background-color: var(--sklearn-color-background);\n",
       "  padding-right: 1em;\n",
       "  padding-left: 1em;\n",
       "}\n",
       "\n",
       "\n",
       "/* Toggleable style: style used for estimator/Pipeline/ColumnTransformer box that is\n",
       "clickable and can be expanded/collapsed.\n",
       "- Pipeline and ColumnTransformer use this feature and define the default style\n",
       "- Estimators will overwrite some part of the style using the `sk-estimator` class\n",
       "*/\n",
       "\n",
       "/* Pipeline and ColumnTransformer style (default) */\n",
       "\n",
       "#sk-container-id-2 div.sk-toggleable {\n",
       "  /* Default theme specific background. It is overwritten whether we have a\n",
       "  specific estimator or a Pipeline/ColumnTransformer */\n",
       "  background-color: var(--sklearn-color-background);\n",
       "}\n",
       "\n",
       "/* Toggleable label */\n",
       "#sk-container-id-2 label.sk-toggleable__label {\n",
       "  cursor: pointer;\n",
       "  display: block;\n",
       "  width: 100%;\n",
       "  margin-bottom: 0;\n",
       "  padding: 0.5em;\n",
       "  box-sizing: border-box;\n",
       "  text-align: center;\n",
       "}\n",
       "\n",
       "#sk-container-id-2 label.sk-toggleable__label-arrow:before {\n",
       "  /* Arrow on the left of the label */\n",
       "  content: \"▸\";\n",
       "  float: left;\n",
       "  margin-right: 0.25em;\n",
       "  color: var(--sklearn-color-icon);\n",
       "}\n",
       "\n",
       "#sk-container-id-2 label.sk-toggleable__label-arrow:hover:before {\n",
       "  color: var(--sklearn-color-text);\n",
       "}\n",
       "\n",
       "/* Toggleable content - dropdown */\n",
       "\n",
       "#sk-container-id-2 div.sk-toggleable__content {\n",
       "  max-height: 0;\n",
       "  max-width: 0;\n",
       "  overflow: hidden;\n",
       "  text-align: left;\n",
       "  /* unfitted */\n",
       "  background-color: var(--sklearn-color-unfitted-level-0);\n",
       "}\n",
       "\n",
       "#sk-container-id-2 div.sk-toggleable__content.fitted {\n",
       "  /* fitted */\n",
       "  background-color: var(--sklearn-color-fitted-level-0);\n",
       "}\n",
       "\n",
       "#sk-container-id-2 div.sk-toggleable__content pre {\n",
       "  margin: 0.2em;\n",
       "  border-radius: 0.25em;\n",
       "  color: var(--sklearn-color-text);\n",
       "  /* unfitted */\n",
       "  background-color: var(--sklearn-color-unfitted-level-0);\n",
       "}\n",
       "\n",
       "#sk-container-id-2 div.sk-toggleable__content.fitted pre {\n",
       "  /* unfitted */\n",
       "  background-color: var(--sklearn-color-fitted-level-0);\n",
       "}\n",
       "\n",
       "#sk-container-id-2 input.sk-toggleable__control:checked~div.sk-toggleable__content {\n",
       "  /* Expand drop-down */\n",
       "  max-height: 200px;\n",
       "  max-width: 100%;\n",
       "  overflow: auto;\n",
       "}\n",
       "\n",
       "#sk-container-id-2 input.sk-toggleable__control:checked~label.sk-toggleable__label-arrow:before {\n",
       "  content: \"▾\";\n",
       "}\n",
       "\n",
       "/* Pipeline/ColumnTransformer-specific style */\n",
       "\n",
       "#sk-container-id-2 div.sk-label input.sk-toggleable__control:checked~label.sk-toggleable__label {\n",
       "  color: var(--sklearn-color-text);\n",
       "  background-color: var(--sklearn-color-unfitted-level-2);\n",
       "}\n",
       "\n",
       "#sk-container-id-2 div.sk-label.fitted input.sk-toggleable__control:checked~label.sk-toggleable__label {\n",
       "  background-color: var(--sklearn-color-fitted-level-2);\n",
       "}\n",
       "\n",
       "/* Estimator-specific style */\n",
       "\n",
       "/* Colorize estimator box */\n",
       "#sk-container-id-2 div.sk-estimator input.sk-toggleable__control:checked~label.sk-toggleable__label {\n",
       "  /* unfitted */\n",
       "  background-color: var(--sklearn-color-unfitted-level-2);\n",
       "}\n",
       "\n",
       "#sk-container-id-2 div.sk-estimator.fitted input.sk-toggleable__control:checked~label.sk-toggleable__label {\n",
       "  /* fitted */\n",
       "  background-color: var(--sklearn-color-fitted-level-2);\n",
       "}\n",
       "\n",
       "#sk-container-id-2 div.sk-label label.sk-toggleable__label,\n",
       "#sk-container-id-2 div.sk-label label {\n",
       "  /* The background is the default theme color */\n",
       "  color: var(--sklearn-color-text-on-default-background);\n",
       "}\n",
       "\n",
       "/* On hover, darken the color of the background */\n",
       "#sk-container-id-2 div.sk-label:hover label.sk-toggleable__label {\n",
       "  color: var(--sklearn-color-text);\n",
       "  background-color: var(--sklearn-color-unfitted-level-2);\n",
       "}\n",
       "\n",
       "/* Label box, darken color on hover, fitted */\n",
       "#sk-container-id-2 div.sk-label.fitted:hover label.sk-toggleable__label.fitted {\n",
       "  color: var(--sklearn-color-text);\n",
       "  background-color: var(--sklearn-color-fitted-level-2);\n",
       "}\n",
       "\n",
       "/* Estimator label */\n",
       "\n",
       "#sk-container-id-2 div.sk-label label {\n",
       "  font-family: monospace;\n",
       "  font-weight: bold;\n",
       "  display: inline-block;\n",
       "  line-height: 1.2em;\n",
       "}\n",
       "\n",
       "#sk-container-id-2 div.sk-label-container {\n",
       "  text-align: center;\n",
       "}\n",
       "\n",
       "/* Estimator-specific */\n",
       "#sk-container-id-2 div.sk-estimator {\n",
       "  font-family: monospace;\n",
       "  border: 1px dotted var(--sklearn-color-border-box);\n",
       "  border-radius: 0.25em;\n",
       "  box-sizing: border-box;\n",
       "  margin-bottom: 0.5em;\n",
       "  /* unfitted */\n",
       "  background-color: var(--sklearn-color-unfitted-level-0);\n",
       "}\n",
       "\n",
       "#sk-container-id-2 div.sk-estimator.fitted {\n",
       "  /* fitted */\n",
       "  background-color: var(--sklearn-color-fitted-level-0);\n",
       "}\n",
       "\n",
       "/* on hover */\n",
       "#sk-container-id-2 div.sk-estimator:hover {\n",
       "  /* unfitted */\n",
       "  background-color: var(--sklearn-color-unfitted-level-2);\n",
       "}\n",
       "\n",
       "#sk-container-id-2 div.sk-estimator.fitted:hover {\n",
       "  /* fitted */\n",
       "  background-color: var(--sklearn-color-fitted-level-2);\n",
       "}\n",
       "\n",
       "/* Specification for estimator info (e.g. \"i\" and \"?\") */\n",
       "\n",
       "/* Common style for \"i\" and \"?\" */\n",
       "\n",
       ".sk-estimator-doc-link,\n",
       "a:link.sk-estimator-doc-link,\n",
       "a:visited.sk-estimator-doc-link {\n",
       "  float: right;\n",
       "  font-size: smaller;\n",
       "  line-height: 1em;\n",
       "  font-family: monospace;\n",
       "  background-color: var(--sklearn-color-background);\n",
       "  border-radius: 1em;\n",
       "  height: 1em;\n",
       "  width: 1em;\n",
       "  text-decoration: none !important;\n",
       "  margin-left: 1ex;\n",
       "  /* unfitted */\n",
       "  border: var(--sklearn-color-unfitted-level-1) 1pt solid;\n",
       "  color: var(--sklearn-color-unfitted-level-1);\n",
       "}\n",
       "\n",
       ".sk-estimator-doc-link.fitted,\n",
       "a:link.sk-estimator-doc-link.fitted,\n",
       "a:visited.sk-estimator-doc-link.fitted {\n",
       "  /* fitted */\n",
       "  border: var(--sklearn-color-fitted-level-1) 1pt solid;\n",
       "  color: var(--sklearn-color-fitted-level-1);\n",
       "}\n",
       "\n",
       "/* On hover */\n",
       "div.sk-estimator:hover .sk-estimator-doc-link:hover,\n",
       ".sk-estimator-doc-link:hover,\n",
       "div.sk-label-container:hover .sk-estimator-doc-link:hover,\n",
       ".sk-estimator-doc-link:hover {\n",
       "  /* unfitted */\n",
       "  background-color: var(--sklearn-color-unfitted-level-3);\n",
       "  color: var(--sklearn-color-background);\n",
       "  text-decoration: none;\n",
       "}\n",
       "\n",
       "div.sk-estimator.fitted:hover .sk-estimator-doc-link.fitted:hover,\n",
       ".sk-estimator-doc-link.fitted:hover,\n",
       "div.sk-label-container:hover .sk-estimator-doc-link.fitted:hover,\n",
       ".sk-estimator-doc-link.fitted:hover {\n",
       "  /* fitted */\n",
       "  background-color: var(--sklearn-color-fitted-level-3);\n",
       "  color: var(--sklearn-color-background);\n",
       "  text-decoration: none;\n",
       "}\n",
       "\n",
       "/* Span, style for the box shown on hovering the info icon */\n",
       ".sk-estimator-doc-link span {\n",
       "  display: none;\n",
       "  z-index: 9999;\n",
       "  position: relative;\n",
       "  font-weight: normal;\n",
       "  right: .2ex;\n",
       "  padding: .5ex;\n",
       "  margin: .5ex;\n",
       "  width: min-content;\n",
       "  min-width: 20ex;\n",
       "  max-width: 50ex;\n",
       "  color: var(--sklearn-color-text);\n",
       "  box-shadow: 2pt 2pt 4pt #999;\n",
       "  /* unfitted */\n",
       "  background: var(--sklearn-color-unfitted-level-0);\n",
       "  border: .5pt solid var(--sklearn-color-unfitted-level-3);\n",
       "}\n",
       "\n",
       ".sk-estimator-doc-link.fitted span {\n",
       "  /* fitted */\n",
       "  background: var(--sklearn-color-fitted-level-0);\n",
       "  border: var(--sklearn-color-fitted-level-3);\n",
       "}\n",
       "\n",
       ".sk-estimator-doc-link:hover span {\n",
       "  display: block;\n",
       "}\n",
       "\n",
       "/* \"?\"-specific style due to the `<a>` HTML tag */\n",
       "\n",
       "#sk-container-id-2 a.estimator_doc_link {\n",
       "  float: right;\n",
       "  font-size: 1rem;\n",
       "  line-height: 1em;\n",
       "  font-family: monospace;\n",
       "  background-color: var(--sklearn-color-background);\n",
       "  border-radius: 1rem;\n",
       "  height: 1rem;\n",
       "  width: 1rem;\n",
       "  text-decoration: none;\n",
       "  /* unfitted */\n",
       "  color: var(--sklearn-color-unfitted-level-1);\n",
       "  border: var(--sklearn-color-unfitted-level-1) 1pt solid;\n",
       "}\n",
       "\n",
       "#sk-container-id-2 a.estimator_doc_link.fitted {\n",
       "  /* fitted */\n",
       "  border: var(--sklearn-color-fitted-level-1) 1pt solid;\n",
       "  color: var(--sklearn-color-fitted-level-1);\n",
       "}\n",
       "\n",
       "/* On hover */\n",
       "#sk-container-id-2 a.estimator_doc_link:hover {\n",
       "  /* unfitted */\n",
       "  background-color: var(--sklearn-color-unfitted-level-3);\n",
       "  color: var(--sklearn-color-background);\n",
       "  text-decoration: none;\n",
       "}\n",
       "\n",
       "#sk-container-id-2 a.estimator_doc_link.fitted:hover {\n",
       "  /* fitted */\n",
       "  background-color: var(--sklearn-color-fitted-level-3);\n",
       "}\n",
       "</style><div id=\"sk-container-id-2\" class=\"sk-top-container\"><div class=\"sk-text-repr-fallback\"><pre>RandomForestRegressor(random_state=42)</pre><b>In a Jupyter environment, please rerun this cell to show the HTML representation or trust the notebook. <br />On GitHub, the HTML representation is unable to render, please try loading this page with nbviewer.org.</b></div><div class=\"sk-container\" hidden><div class=\"sk-item\"><div class=\"sk-estimator fitted sk-toggleable\"><input class=\"sk-toggleable__control sk-hidden--visually\" id=\"sk-estimator-id-2\" type=\"checkbox\" checked><label for=\"sk-estimator-id-2\" class=\"sk-toggleable__label fitted sk-toggleable__label-arrow fitted\">&nbsp;&nbsp;RandomForestRegressor<a class=\"sk-estimator-doc-link fitted\" rel=\"noreferrer\" target=\"_blank\" href=\"https://scikit-learn.org/1.5/modules/generated/sklearn.ensemble.RandomForestRegressor.html\">?<span>Documentation for RandomForestRegressor</span></a><span class=\"sk-estimator-doc-link fitted\">i<span>Fitted</span></span></label><div class=\"sk-toggleable__content fitted\"><pre>RandomForestRegressor(random_state=42)</pre></div> </div></div></div></div>"
      ],
      "text/plain": [
       "RandomForestRegressor(random_state=42)"
      ]
     },
     "execution_count": 150,
     "metadata": {},
     "output_type": "execute_result"
    }
   ],
   "source": [
    "from sklearn.ensemble import RandomForestRegressor\n",
    "\n",
    "# Crear y entrenar el modelo\n",
    "model = RandomForestRegressor(n_estimators=100, random_state=42)\n",
    "model.fit(X_train, y_train)\n"
   ]
  },
  {
   "cell_type": "markdown",
   "id": "80b5429f-4f08-49fa-992a-9a0b59e5e33b",
   "metadata": {},
   "source": [
    "# PASO 6: Evaluación del modelo en test"
   ]
  },
  {
   "cell_type": "code",
   "execution_count": null,
   "id": "ca4587e6-30e1-4aae-8976-9ca837f938f5",
   "metadata": {},
   "outputs": [
    {
     "name": "stdout",
     "output_type": "stream",
     "text": [
      "\n",
      "📊 Desempeño en conjunto de prueba:\n",
      "RMSE: 1416451.31\n",
      "R²: 0.71\n"
     ]
    }
   ],
   "source": [
    "%pip install scikit-learn\n",
    "\n",
    "from sklearn.metrics import mean_squared_error, r2_score, mean_absolute_error\n",
    "\n",
    "# Crear y entrenar el modelo (suponiendo que ya lo hayas hecho)\n",
    "\n",
    "# Hacer predicciones en el conjunto de prueba\n",
    "y_test_pred = model.predict(X_test)\n",
    "import numpy as np\n",
    "\n",
    "test_rmse = np.sqrt(mean_squared_error(y_test, y_test_pred))\n",
    "# Evaluar el desempeño en el conjunto de prueba con la nueva función RMSE\n",
    "test_rmse = root_mean_squared_error(y_test, y_test_pred)\n",
    "test_r2 = r2_score(y_test, y_test_pred)\n",
    "\n",
    "print(f\"\\n📊 Desempeño en conjunto de prueba:\")\n",
    "print(f\"RMSE: {test_rmse:.2f}\")\n",
    "print(f\"R²: {test_r2:.2f}\")\n"
   ]
  },
  {
   "cell_type": "markdown",
   "id": "49981b52-ad76-482d-ae24-8dab97a4abd8",
   "metadata": {},
   "source": [
    "#          Graficos (paso 6 y paso 7)"
   ]
  },
  {
   "cell_type": "markdown",
   "id": "bf235a57-0c56-48cf-9cdb-20d352c08a5b",
   "metadata": {},
   "source": [
    "# 1. Gráfico de predicción vs valor real"
   ]
  },
  {
   "cell_type": "code",
   "execution_count": null,
   "id": "e41d59ee-87cf-491f-9db0-0fb84e215b81",
   "metadata": {},
   "outputs": [
    {
     "data": {
      "image/png": "[encoded data removed]",
      "text/plain": [
       "<Figure size 800x600 with 1 Axes>"
      ]
     },
     "metadata": {},
     "output_type": "display_data"
    }
   ],
   "source": [
    "import matplotlib.pyplot as plt\n",
    "\n",
    "plt.figure(figsize=(8,6))\n",
    "plt.scatter(y_test, y_test_pred, alpha=0.5, color='blue')\n",
    "plt.plot([y_test.min(), y_test.max()], [y_test.min(), y_test.max()], 'r--')  # línea ideal\n",
    "plt.xlabel('Precio Real')\n",
    "plt.ylabel('Precio Predicho')\n",
    "plt.title('Precio Real vs Predicho')  # Eliminar emoji para evitar la advertencia\n",
    "plt.grid(True)\n",
    "plt.show()\n",
    "\n"
   ]
  },
  {
   "cell_type": "markdown",
   "id": "b35fad3b-dbb4-4e66-8b62-4a7e83c6849f",
   "metadata": {},
   "source": [
    "# 2. Importancia de características"
   ]
  },
  {
   "cell_type": "code",
   "execution_count": 181,
   "id": "2be53084-e424-426c-a70a-8e81fb435a3c",
   "metadata": {},
   "outputs": [
    {
     "data": {
      "image/png": "[encoded data removed]",
      "text/plain": [
       "<Figure size 1000x600 with 1 Axes>"
      ]
     },
     "metadata": {},
     "output_type": "display_data"
    }
   ],
   "source": [
    "import pandas as pd\n",
    "\n",
    "# Obtener importancias\n",
    "importancias = model.feature_importances_\n",
    "\n",
    "# Crear DataFrame con nombres y valores\n",
    "importancia_df = pd.DataFrame({\n",
    "    'Característica': X.columns,\n",
    "    'Importancia': importancias\n",
    "}).sort_values(by='Importancia', ascending=False)\n",
    "\n",
    "# Graficar\n",
    "plt.figure(figsize=(10,6))\n",
    "plt.barh(importancia_df['Característica'], importancia_df['Importancia'], color='green')\n",
    "plt.xlabel('Importancia')\n",
    "plt.title('Importancia de Características')\n",
    "plt.gca().invert_yaxis()\n",
    "plt.grid(True)\n",
    "plt.show()\n"
   ]
  },
  {
   "cell_type": "markdown",
   "id": "68bf9957-b399-4487-9fb7-e5af31f628fc",
   "metadata": {},
   "source": [
    "# 3. Gráfico de errores residuales"
   ]
  },
  {
   "cell_type": "code",
   "execution_count": null,
   "id": "b0355429-2f00-456f-a4c0-20a1bcc5e780",
   "metadata": {},
   "outputs": [
    {
     "data": {
      "image/png": "[encoded data removed]",
      "text/plain": [
       "<Figure size 800x600 with 1 Axes>"
      ]
     },
     "metadata": {},
     "output_type": "display_data"
    }
   ],
   "source": [
    "residuos = y_test - y_pred\n",
    "\n",
    "plt.figure(figsize=(8,6))\n",
    "plt.hist(residuos, bins=30, color='purple', edgecolor='black')\n",
    "plt.title(' Distribución de errores residuales')\n",
    "plt.xlabel('Error')\n",
    "plt.ylabel('Frecuencia')\n",
    "plt.grid(True)\n",
    "plt.show()\n"
   ]
  },
  {
   "cell_type": "markdown",
   "id": "e6eed33c-8b40-4429-9f97-d3efb075beb0",
   "metadata": {},
   "source": [
    "# Interpretación y análisis de resultados"
   ]
  },
  {
   "cell_type": "markdown",
   "id": "47571b98-26f7-4312-96a2-d49118f22b2d",
   "metadata": {},
   "source": [
    "1. Precio Real vs. Precio Predicho\n",
    "Interpretación:\n",
    "El gráfico que compara el precio real con el predicho sigue siendo una herramienta valiosa para observar qué tan cerca están los puntos de la línea ideal (en rojo). Si el modelo ha mejorado, los puntos deberían alinearse más estrechamente con la línea diagonal, lo que indica una mayor precisión en las predicciones.\n",
    "\n",
    "Conclusión:\n",
    "El modelo muestra una mejora al acercar las predicciones al valor real del precio, lo que refleja una mayor exactitud en sus estimaciones."
   ]
  },
  {
   "cell_type": "markdown",
   "id": "e10fe43b-21d3-4e45-8e3d-22249196f79e",
   "metadata": {},
   "source": [
    "2. Importancia de las Características\n",
    "Interpretación:\n",
    "Cuando una o varias características principales cambian su nivel de relevancia, esto puede indicar una selección de variables más adecuada. Asimismo, un aumento en el valor de R² sugiere que el modelo está captando mejor las variables que verdaderamente afectan el precio.\n",
    "\n",
    "Conclusión:\n",
    "Gracias a un R² más alto, el modelo demuestra una mayor capacidad para identificar con precisión las características más influyentes en el precio del automóvil."
   ]
  },
  {
   "cell_type": "markdown",
   "id": "6a14a5b3-692c-4a4d-b900-91c1e510f21d",
   "metadata": {},
   "source": [
    "3. Distribución de Errores Residuales\n",
    "Interpretación:\n",
    "El histograma de los errores residuales debería reflejar una menor dispersión, con valores más próximos a cero y una distribución más equilibrada. Si el modelo ha mejorado, los errores tenderán a concentrarse alrededor de cero y mostrarán menos sesgo.\n",
    "\n",
    "Conclusión:\n",
    "Con un R² de 0.71, se evidencia que los errores están mejor controlados y dentro de un rango más estrecho. Esto sugiere que el modelo está realizando predicciones más precisas y sin desviaciones significativas."
   ]
  },
  {
   "cell_type": "markdown",
   "id": "45367ea7-6ec6-475a-b557-e318449cd468",
   "metadata": {},
   "source": [
    "Evaluación general del modelo \n",
    "\n",
    "RMSE en entrenamiento: 1.61 millones\n",
    "\n",
    "R² en entrenamiento: 0.53\n",
    "\n",
    "RMSE en prueba: 1.42 millones\n",
    "\n",
    "R² en prueba: 0.71\n",
    "\n",
    "Análisis:\n",
    "Con un R² de 0.71 en los datos de prueba, el modelo es capaz de explicar más del 70% de la variabilidad en el precio del automóvil. Esto representa una mejora notable respecto a los resultados previos. No obstante, todavía hay espacio para optimizar el desempeño, ya que el modelo no alcanza una precisión total (siendo 1 el valor ideal de R²). Para seguir mejorando, se podrían considerar modelos más avanzados o aplicar técnicas de ajuste de hiperparámetros."
   ]
  }
 ],
 "metadata": {
  "kernelspec": {
   "display_name": "Python [conda env:base] *",
   "language": "python",
   "name": "conda-base-py"
  },
  "language_info": {
   "codemirror_mode": {
    "name": "ipython",
    "version": 3
   },
   "file_extension": ".py",
   "mimetype": "text/x-python",
   "name": "python",
   "nbconvert_exporter": "python",
   "pygments_lexer": "ipython3",
   "version": "3.12.7"
  }
 },
 "nbformat": 4,
 "nbformat_minor": 5
}
